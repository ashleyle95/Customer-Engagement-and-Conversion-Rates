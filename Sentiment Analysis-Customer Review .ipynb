{
 "cells": [
  {
   "cell_type": "markdown",
   "id": "6e7844ca",
   "metadata": {},
   "source": [
    "# Sentiment Analysis - Customer Review\n",
    "\n",
    "## Context\n",
    "An online retail business, A, is addressing the decline in customer engagement and conversion rates due to the underperformance of marketing campaigns, which did not yield the expected return on investment.\n",
    "\n",
    "A more detailed analysis is required to identify areas for improvement in the marketing strategies and understand the customer behaviors. Therefore, the analysis should focus on understanding customer feedback and emotions during their experience with the product and service, which also plays a crucial role in assessing our operational performance.\n",
    "\n",
    "## Purpose\n",
    "In this part, we will conduct the sentiment analysis to:\n",
    "+ Assess customer experience by calculating the sentiment score based on review text.\n",
    "+ Categorize reviews into primary reasons, such as Product Price, Product Quality, Delivery, and Customer Service.\n",
    "\n",
    "Since this analysis is a preparation step for an interactive dashboard in Power BI, we will focus only on the two tasks mentioned above without creating charts to highlight patterns.\n",
    "\n",
    "## Dataset\n",
    "Data is extracted by connecting with database in SQL server:\n",
    "+ Database name: PortfolioProject_MarketingAnalytics\n",
    "+ Table name: customer_reviews"
   ]
  },
  {
   "cell_type": "code",
   "execution_count": null,
   "id": "a4acedb6",
   "metadata": {},
   "outputs": [
    {
     "name": "stderr",
     "output_type": "stream",
     "text": [
      "[nltk_data] Downloading package vader_lexicon to\n",
      "[nltk_data]     C:\\Users\\lemin\\AppData\\Roaming\\nltk_data...\n",
      "[nltk_data]   Package vader_lexicon is already up-to-date!\n",
      "C:\\Users\\lemin\\AppData\\Local\\Temp\\ipykernel_10524\\733004483.py:20: UserWarning: pandas only supports SQLAlchemy connectable (engine/connection) or database string URI or sqlite3 DBAPI2 connection. Other DBAPI2 objects are not tested. Please consider using SQLAlchemy.\n",
      "  df = pd.read_sql(query, conn)\n"
     ]
    },
    {
     "data": {
      "text/html": [
       "<div>\n",
       "<style scoped>\n",
       "    .dataframe tbody tr th:only-of-type {\n",
       "        vertical-align: middle;\n",
       "    }\n",
       "\n",
       "    .dataframe tbody tr th {\n",
       "        vertical-align: top;\n",
       "    }\n",
       "\n",
       "    .dataframe thead th {\n",
       "        text-align: right;\n",
       "    }\n",
       "</style>\n",
       "<table border=\"1\" class=\"dataframe\">\n",
       "  <thead>\n",
       "    <tr style=\"text-align: right;\">\n",
       "      <th></th>\n",
       "      <th>ReviewId</th>\n",
       "      <th>CustomerID</th>\n",
       "      <th>ProductID</th>\n",
       "      <th>ReviewDate</th>\n",
       "      <th>Rating</th>\n",
       "      <th>ReviewText</th>\n",
       "    </tr>\n",
       "  </thead>\n",
       "  <tbody>\n",
       "    <tr>\n",
       "      <th>0</th>\n",
       "      <td>1</td>\n",
       "      <td>77</td>\n",
       "      <td>18</td>\n",
       "      <td>2023-12-23</td>\n",
       "      <td>3</td>\n",
       "      <td>Average  experience,  nothing  special.</td>\n",
       "    </tr>\n",
       "    <tr>\n",
       "      <th>1</th>\n",
       "      <td>2</td>\n",
       "      <td>80</td>\n",
       "      <td>19</td>\n",
       "      <td>2024-12-25</td>\n",
       "      <td>5</td>\n",
       "      <td>The  quality  is    top-notch.</td>\n",
       "    </tr>\n",
       "    <tr>\n",
       "      <th>2</th>\n",
       "      <td>3</td>\n",
       "      <td>50</td>\n",
       "      <td>13</td>\n",
       "      <td>2025-01-26</td>\n",
       "      <td>4</td>\n",
       "      <td>Five  stars  for  the  quick  delivery.</td>\n",
       "    </tr>\n",
       "    <tr>\n",
       "      <th>3</th>\n",
       "      <td>4</td>\n",
       "      <td>78</td>\n",
       "      <td>15</td>\n",
       "      <td>2025-04-21</td>\n",
       "      <td>3</td>\n",
       "      <td>Good  quality,  but  could  be  cheaper.</td>\n",
       "    </tr>\n",
       "    <tr>\n",
       "      <th>4</th>\n",
       "      <td>5</td>\n",
       "      <td>64</td>\n",
       "      <td>2</td>\n",
       "      <td>2023-07-16</td>\n",
       "      <td>3</td>\n",
       "      <td>Average  experience,  nothing  special.</td>\n",
       "    </tr>\n",
       "  </tbody>\n",
       "</table>\n",
       "</div>"
      ],
      "text/plain": [
       "   ReviewId  CustomerID  ProductID  ReviewDate  Rating  \\\n",
       "0         1          77         18  2023-12-23       3   \n",
       "1         2          80         19  2024-12-25       5   \n",
       "2         3          50         13  2025-01-26       4   \n",
       "3         4          78         15  2025-04-21       3   \n",
       "4         5          64          2  2023-07-16       3   \n",
       "\n",
       "                                 ReviewText  \n",
       "0   Average  experience,  nothing  special.  \n",
       "1            The  quality  is    top-notch.  \n",
       "2   Five  stars  for  the  quick  delivery.  \n",
       "3  Good  quality,  but  could  be  cheaper.  \n",
       "4   Average  experience,  nothing  special.  "
      ]
     },
     "metadata": {},
     "output_type": "display_data"
    }
   ],
   "source": [
    "# Import necessary libraries\n",
    "\n",
    "from IPython.display import display\n",
    "import pandas as pd\n",
    "import pyodbc\n",
    "import nltk\n",
    "from nltk.sentiment.vader import SentimentIntensityAnalyzer\n",
    "nltk.download('vader_lexicon')\n",
    "import matplotlib.pyplot as plt\n",
    "# connect the SQL server to fetch data\n",
    "def fetch_SQLdata():\n",
    "    conn_str = (\n",
    "        \"Driver={SQL Server};\"\n",
    "        \"Server=JAYCHOU\\SQLEXPRESS;\"\n",
    "        \"Database=PortfolioProject_MarketingAnalytics;\"  \n",
    "        \"Trusted_Connection=Yes\"\n",
    "    )\n",
    "    conn = pyodbc.connect(conn_str)\n",
    "    query = \"SELECT ReviewId, CustomerID, ProductID, ReviewDate, Rating, ReviewText FROM customer_reviews\"\n",
    "    df = pd.read_sql(query, conn)\n",
    "    conn.close()\n",
    "    return df\n",
    "df=fetch_SQLdata()\n",
    "display(df.head())"
   ]
  },
  {
   "cell_type": "code",
   "execution_count": null,
   "id": "570b23fb",
   "metadata": {
    "scrolled": true
   },
   "outputs": [
    {
     "name": "stdout",
     "output_type": "stream",
     "text": [
      "Data Type:\n",
      "ReviewId       int64\n",
      "CustomerID     int64\n",
      "ProductID      int64\n",
      "ReviewDate    object\n",
      "Rating         int64\n",
      "ReviewText    object\n",
      "dtype: object\n",
      "\n",
      "Row Numbers, Column Numbers:\n",
      "(1363, 6)\n"
     ]
    }
   ],
   "source": [
    "# preliminary examination of dataset\n",
    "print(\"Data Type:\")\n",
    "print(df.dtypes)\n",
    "print(\"\\nRow Numbers, Column Numbers:\")\n",
    "print(df.shape)"
   ]
  },
  {
   "cell_type": "markdown",
   "id": "fc416aac",
   "metadata": {},
   "source": [
    "We have quick glance at dataset for the first 5 rows, data types for each column and the shape of dataset: 1363 rows and 6 columns.\n",
    "## Data Cleaning\n",
    "In this part, we will perform data cleaning by identifying and handling missing values in the dataset and remove duplicated  if present."
   ]
  },
  {
   "cell_type": "code",
   "execution_count": null,
   "id": "a29f9239",
   "metadata": {},
   "outputs": [
    {
     "name": "stdout",
     "output_type": "stream",
     "text": [
      "ReviewId\n",
      "CustomerID\n",
      "ProductID\n",
      "ReviewDate\n",
      "Rating\n",
      "ReviewText\n"
     ]
    }
   ],
   "source": [
    "# column name\n",
    "for i in df.columns:\n",
    "    print(i)"
   ]
  },
  {
   "cell_type": "code",
   "execution_count": null,
   "id": "595496f1",
   "metadata": {},
   "outputs": [
    {
     "name": "stdout",
     "output_type": "stream",
     "text": [
      "ReviewId: 1363 unique values\n",
      "CustomerID: 100 unique values\n",
      "ProductID: 20 unique values\n",
      "ReviewDate: 793 unique values\n",
      "Rating: 5 unique values\n",
      "ReviewText: 102 unique values\n"
     ]
    }
   ],
   "source": [
    "# Unique values for each column\n",
    "for i in df.columns:\n",
    "    print(f\"{i}: {df[i].nunique()} unique values\")"
   ]
  },
  {
   "cell_type": "code",
   "execution_count": null,
   "id": "6a5ee0b5",
   "metadata": {
    "scrolled": true
   },
   "outputs": [
    {
     "name": "stdout",
     "output_type": "stream",
     "text": [
      "\n",
      "Null values count\n",
      "ReviewId      0\n",
      "CustomerID    0\n",
      "ProductID     0\n",
      "ReviewDate    0\n",
      "Rating        0\n",
      "ReviewText    0\n",
      "dtype: int64\n"
     ]
    }
   ],
   "source": [
    "# Check null values for each column\n",
    "print(\"\\nNull values count\")\n",
    "print(df.isnull().sum())"
   ]
  },
  {
   "cell_type": "code",
   "execution_count": null,
   "id": "dac27b8a",
   "metadata": {},
   "outputs": [
    {
     "name": "stdout",
     "output_type": "stream",
     "text": [
      "Empty DataFrame\n",
      "Columns: [ReviewId, CustomerID, ProductID, ReviewDate, Rating, ReviewText]\n",
      "Index: []\n"
     ]
    }
   ],
   "source": [
    "duplicates = df[df.duplicated(subset=['ReviewId', 'CustomerID', 'ProductID'], keep=False)]\n",
    "# Display duplicates\n",
    "print(duplicates)"
   ]
  },
  {
   "cell_type": "markdown",
   "id": "dde07b1e",
   "metadata": {},
   "source": [
    "After checking all features of dataset, there is no missing value and duplicated data so that it is ready for sentiment analysis.\n",
    "## Sentiment Analysis\n",
    "We have a look at chart of overal rating. In this analysis, we will use the VADER model to score the review text in the new column 'SentimentScore'.\n",
    "\n",
    "In the below graph, most of reviews are 4 or 5 score, which can show the positive feedback of products and service"
   ]
  },
  {
   "cell_type": "code",
   "execution_count": null,
   "id": "ace28d1e",
   "metadata": {},
   "outputs": [
    {
     "data": {
      "image/png": "[encoded data removed]",
      "text/plain": [
       "<Figure size 1000x500 with 1 Axes>"
      ]
     },
     "metadata": {},
     "output_type": "display_data"
    }
   ],
   "source": [
    "\n",
    "ax = (\n",
    "    df['Rating'].value_counts()\n",
    "    .sort_index()\n",
    "    .plot(kind='bar', \n",
    "          figsize=(10, 5))\n",
    ")\n",
    "ax.set_xlabel('Rating')  # Corrected method usage\n",
    "ax.set_ylabel(\"Count of Reviews\")  # Adding y-axis label for clarity\n",
    "plt.xticks(rotation=0)  # Keeps x-axis labels readable\n",
    "plt.show()\n"
   ]
  },
  {
   "cell_type": "code",
   "execution_count": null,
   "id": "a3a72de3",
   "metadata": {},
   "outputs": [
    {
     "data": {
      "text/html": [
       "<div>\n",
       "<style scoped>\n",
       "    .dataframe tbody tr th:only-of-type {\n",
       "        vertical-align: middle;\n",
       "    }\n",
       "\n",
       "    .dataframe tbody tr th {\n",
       "        vertical-align: top;\n",
       "    }\n",
       "\n",
       "    .dataframe thead th {\n",
       "        text-align: right;\n",
       "    }\n",
       "</style>\n",
       "<table border=\"1\" class=\"dataframe\">\n",
       "  <thead>\n",
       "    <tr style=\"text-align: right;\">\n",
       "      <th></th>\n",
       "      <th>ReviewId</th>\n",
       "      <th>CustomerID</th>\n",
       "      <th>ProductID</th>\n",
       "      <th>ReviewDate</th>\n",
       "      <th>Rating</th>\n",
       "      <th>ReviewText</th>\n",
       "      <th>SentimentScore</th>\n",
       "    </tr>\n",
       "  </thead>\n",
       "  <tbody>\n",
       "    <tr>\n",
       "      <th>0</th>\n",
       "      <td>1</td>\n",
       "      <td>77</td>\n",
       "      <td>18</td>\n",
       "      <td>2023-12-23</td>\n",
       "      <td>3</td>\n",
       "      <td>Average  experience,  nothing  special.</td>\n",
       "      <td>-0.3089</td>\n",
       "    </tr>\n",
       "    <tr>\n",
       "      <th>1</th>\n",
       "      <td>2</td>\n",
       "      <td>80</td>\n",
       "      <td>19</td>\n",
       "      <td>2024-12-25</td>\n",
       "      <td>5</td>\n",
       "      <td>The  quality  is    top-notch.</td>\n",
       "      <td>0.0000</td>\n",
       "    </tr>\n",
       "    <tr>\n",
       "      <th>2</th>\n",
       "      <td>3</td>\n",
       "      <td>50</td>\n",
       "      <td>13</td>\n",
       "      <td>2025-01-26</td>\n",
       "      <td>4</td>\n",
       "      <td>Five  stars  for  the  quick  delivery.</td>\n",
       "      <td>0.0000</td>\n",
       "    </tr>\n",
       "    <tr>\n",
       "      <th>3</th>\n",
       "      <td>4</td>\n",
       "      <td>78</td>\n",
       "      <td>15</td>\n",
       "      <td>2025-04-21</td>\n",
       "      <td>3</td>\n",
       "      <td>Good  quality,  but  could  be  cheaper.</td>\n",
       "      <td>0.2382</td>\n",
       "    </tr>\n",
       "    <tr>\n",
       "      <th>4</th>\n",
       "      <td>5</td>\n",
       "      <td>64</td>\n",
       "      <td>2</td>\n",
       "      <td>2023-07-16</td>\n",
       "      <td>3</td>\n",
       "      <td>Average  experience,  nothing  special.</td>\n",
       "      <td>-0.3089</td>\n",
       "    </tr>\n",
       "    <tr>\n",
       "      <th>...</th>\n",
       "      <td>...</td>\n",
       "      <td>...</td>\n",
       "      <td>...</td>\n",
       "      <td>...</td>\n",
       "      <td>...</td>\n",
       "      <td>...</td>\n",
       "      <td>...</td>\n",
       "    </tr>\n",
       "    <tr>\n",
       "      <th>1358</th>\n",
       "      <td>1359</td>\n",
       "      <td>28</td>\n",
       "      <td>4</td>\n",
       "      <td>2023-05-25</td>\n",
       "      <td>3</td>\n",
       "      <td>Not  worth  the  money.</td>\n",
       "      <td>-0.1695</td>\n",
       "    </tr>\n",
       "    <tr>\n",
       "      <th>1359</th>\n",
       "      <td>1360</td>\n",
       "      <td>58</td>\n",
       "      <td>12</td>\n",
       "      <td>2023-11-13</td>\n",
       "      <td>2</td>\n",
       "      <td>Average    experience,  nothing  special.</td>\n",
       "      <td>-0.3089</td>\n",
       "    </tr>\n",
       "    <tr>\n",
       "      <th>1360</th>\n",
       "      <td>1361</td>\n",
       "      <td>96</td>\n",
       "      <td>15</td>\n",
       "      <td>2023-03-07</td>\n",
       "      <td>5</td>\n",
       "      <td>Customer  support  was  very  helpful.</td>\n",
       "      <td>0.6997</td>\n",
       "    </tr>\n",
       "    <tr>\n",
       "      <th>1361</th>\n",
       "      <td>1362</td>\n",
       "      <td>99</td>\n",
       "      <td>2</td>\n",
       "      <td>2025-12-03</td>\n",
       "      <td>1</td>\n",
       "      <td>Product  did  not  meet  my  expectations.</td>\n",
       "      <td>0.0000</td>\n",
       "    </tr>\n",
       "    <tr>\n",
       "      <th>1362</th>\n",
       "      <td>1363</td>\n",
       "      <td>16</td>\n",
       "      <td>4</td>\n",
       "      <td>2024-07-16</td>\n",
       "      <td>2</td>\n",
       "      <td>The  product  arrived  late.</td>\n",
       "      <td>0.0000</td>\n",
       "    </tr>\n",
       "  </tbody>\n",
       "</table>\n",
       "<p>1363 rows × 7 columns</p>\n",
       "</div>"
      ],
      "text/plain": [
       "      ReviewId  CustomerID  ProductID  ReviewDate  Rating  \\\n",
       "0            1          77         18  2023-12-23       3   \n",
       "1            2          80         19  2024-12-25       5   \n",
       "2            3          50         13  2025-01-26       4   \n",
       "3            4          78         15  2025-04-21       3   \n",
       "4            5          64          2  2023-07-16       3   \n",
       "...        ...         ...        ...         ...     ...   \n",
       "1358      1359          28          4  2023-05-25       3   \n",
       "1359      1360          58         12  2023-11-13       2   \n",
       "1360      1361          96         15  2023-03-07       5   \n",
       "1361      1362          99          2  2025-12-03       1   \n",
       "1362      1363          16          4  2024-07-16       2   \n",
       "\n",
       "                                      ReviewText  SentimentScore  \n",
       "0        Average  experience,  nothing  special.         -0.3089  \n",
       "1                 The  quality  is    top-notch.          0.0000  \n",
       "2        Five  stars  for  the  quick  delivery.          0.0000  \n",
       "3       Good  quality,  but  could  be  cheaper.          0.2382  \n",
       "4        Average  experience,  nothing  special.         -0.3089  \n",
       "...                                          ...             ...  \n",
       "1358                     Not  worth  the  money.         -0.1695  \n",
       "1359   Average    experience,  nothing  special.         -0.3089  \n",
       "1360      Customer  support  was  very  helpful.          0.6997  \n",
       "1361  Product  did  not  meet  my  expectations.          0.0000  \n",
       "1362                The  product  arrived  late.          0.0000  \n",
       "\n",
       "[1363 rows x 7 columns]"
      ]
     },
     "metadata": {},
     "output_type": "display_data"
    }
   ],
   "source": [
    "# Initialize SentimentIntensityAnalyzer\n",
    "sia = SentimentIntensityAnalyzer()\n",
    "# Apply sentiment analysis directly to the 'ReviewText' column\n",
    "df['SentimentScore'] = df['ReviewText'].apply(lambda review: sia.polarity_scores(review)['compound'])\n",
    "display(df)"
   ]
  },
  {
   "cell_type": "markdown",
   "id": "82e64239",
   "metadata": {},
   "source": [
    "## Review Category\n",
    "To continue, we will categorize the review text in main topics: Product Price, Product Quality, Delivery, Customer Service by using the BART model, which is trained on the MNLI (Multi-Genre Natural Language Inference) dataset to predict the likelihood that a given piece of text."
   ]
  },
  {
   "cell_type": "code",
   "execution_count": null,
   "id": "e2518a92",
   "metadata": {},
   "outputs": [
    {
     "name": "stdout",
     "output_type": "stream",
     "text": [
      "Customer Service\n"
     ]
    }
   ],
   "source": [
    "from transformers import pipeline\n",
    "\n",
    "# Define the categories you want to classify into\n",
    "categ = [\"Product Price\", \"Product Quality\", \"Delivery\", \"Customer Service\"]\n",
    "\n",
    "# Load the zero-shot classification model\n",
    "classifier = pipeline(\"zero-shot-classification\", model=\"facebook/bart-large-mnli\")\n",
    "\n",
    "# Sample text to classify\n",
    "text = \"The customer service was very responsive.\"\n",
    "\n",
    "# Perform zero-shot classification\n",
    "result = classifier(text, candidate_labels=categ)\n",
    "\n",
    "# Get the label with the highest score (first label)\n",
    "predicted_category = result['labels'][0]\n",
    "\n",
    "# Print the predicted category\n",
    "print(predicted_category)\n"
   ]
  },
  {
   "cell_type": "code",
   "execution_count": null,
   "id": "85093ab5",
   "metadata": {},
   "outputs": [],
   "source": [
    "def classify(text):\n",
    "    # Perform zero-shot classification\n",
    "    result = classifier(text, candidate_labels=categ)\n",
    "    \n",
    "    # Get the label with the highest score (first label)\n",
    "    predicted_category = result['labels'][0]\n",
    "    \n",
    "    return predicted_category\n",
    "\n",
    "# Apply the classify function to the 'ReviewText' column \n",
    "df['ReviewCategory'] = df['ReviewText'].apply(classify)"
   ]
  },
  {
   "cell_type": "markdown",
   "id": "1130b5da",
   "metadata": {},
   "source": [
    "We already inserted a new column to label categories of all reviews and export file to CSV for further analysis in PowerBI. "
   ]
  },
  {
   "cell_type": "code",
   "execution_count": null,
   "id": "a6786a4f",
   "metadata": {},
   "outputs": [],
   "source": [
    "df.to_csv('customer_reviews_updated.csv', index=False)"
   ]
  },
  {
   "cell_type": "code",
   "execution_count": null,
   "id": "c92f3a1d",
   "metadata": {},
   "outputs": [
    {
     "data": {
      "text/html": [
       "<div>\n",
       "<style scoped>\n",
       "    .dataframe tbody tr th:only-of-type {\n",
       "        vertical-align: middle;\n",
       "    }\n",
       "\n",
       "    .dataframe tbody tr th {\n",
       "        vertical-align: top;\n",
       "    }\n",
       "\n",
       "    .dataframe thead th {\n",
       "        text-align: right;\n",
       "    }\n",
       "</style>\n",
       "<table border=\"1\" class=\"dataframe\">\n",
       "  <thead>\n",
       "    <tr style=\"text-align: right;\">\n",
       "      <th></th>\n",
       "      <th>ReviewId</th>\n",
       "      <th>CustomerID</th>\n",
       "      <th>ProductID</th>\n",
       "      <th>ReviewDate</th>\n",
       "      <th>Rating</th>\n",
       "      <th>ReviewText</th>\n",
       "      <th>SentimentScore</th>\n",
       "      <th>ReviewCategory</th>\n",
       "    </tr>\n",
       "  </thead>\n",
       "  <tbody>\n",
       "    <tr>\n",
       "      <th>0</th>\n",
       "      <td>1</td>\n",
       "      <td>77</td>\n",
       "      <td>18</td>\n",
       "      <td>2023-12-23</td>\n",
       "      <td>3</td>\n",
       "      <td>Average  experience,  nothing  special.</td>\n",
       "      <td>-0.3089</td>\n",
       "      <td>Customer Service</td>\n",
       "    </tr>\n",
       "    <tr>\n",
       "      <th>1</th>\n",
       "      <td>2</td>\n",
       "      <td>80</td>\n",
       "      <td>19</td>\n",
       "      <td>2024-12-25</td>\n",
       "      <td>5</td>\n",
       "      <td>The  quality  is    top-notch.</td>\n",
       "      <td>0.0000</td>\n",
       "      <td>Product Quality</td>\n",
       "    </tr>\n",
       "    <tr>\n",
       "      <th>2</th>\n",
       "      <td>3</td>\n",
       "      <td>50</td>\n",
       "      <td>13</td>\n",
       "      <td>2025-01-26</td>\n",
       "      <td>4</td>\n",
       "      <td>Five  stars  for  the  quick  delivery.</td>\n",
       "      <td>0.0000</td>\n",
       "      <td>Delivery</td>\n",
       "    </tr>\n",
       "    <tr>\n",
       "      <th>3</th>\n",
       "      <td>4</td>\n",
       "      <td>78</td>\n",
       "      <td>15</td>\n",
       "      <td>2025-04-21</td>\n",
       "      <td>3</td>\n",
       "      <td>Good  quality,  but  could  be  cheaper.</td>\n",
       "      <td>0.2382</td>\n",
       "      <td>Product Price</td>\n",
       "    </tr>\n",
       "    <tr>\n",
       "      <th>4</th>\n",
       "      <td>5</td>\n",
       "      <td>64</td>\n",
       "      <td>2</td>\n",
       "      <td>2023-07-16</td>\n",
       "      <td>3</td>\n",
       "      <td>Average  experience,  nothing  special.</td>\n",
       "      <td>-0.3089</td>\n",
       "      <td>Customer Service</td>\n",
       "    </tr>\n",
       "  </tbody>\n",
       "</table>\n",
       "</div>"
      ],
      "text/plain": [
       "   ReviewId  CustomerID  ProductID  ReviewDate  Rating  \\\n",
       "0         1          77         18  2023-12-23       3   \n",
       "1         2          80         19  2024-12-25       5   \n",
       "2         3          50         13  2025-01-26       4   \n",
       "3         4          78         15  2025-04-21       3   \n",
       "4         5          64          2  2023-07-16       3   \n",
       "\n",
       "                                 ReviewText  SentimentScore    ReviewCategory  \n",
       "0   Average  experience,  nothing  special.         -0.3089  Customer Service  \n",
       "1            The  quality  is    top-notch.          0.0000   Product Quality  \n",
       "2   Five  stars  for  the  quick  delivery.          0.0000          Delivery  \n",
       "3  Good  quality,  but  could  be  cheaper.          0.2382     Product Price  \n",
       "4   Average  experience,  nothing  special.         -0.3089  Customer Service  "
      ]
     },
     "metadata": {},
     "output_type": "display_data"
    }
   ],
   "source": [
    "display(df.head())"
   ]
  },
  {
   "cell_type": "markdown",
   "id": "7680a2ee",
   "metadata": {},
   "source": [
    "## Conclusion\n",
    "When analyzing sentiment, combining both the sentiment score and rating provides a more comprehensive understanding of the customer experience. By considering the sentiment expressed in the text along with the numerical rating provided by the customer, we can gain a more nuanced view of their overall satisfaction.\n",
    "However, there are some limitations when using both pre-trained models in data analysis:\n",
    "\n",
    "+ Contextual Understanding: VADER relies on a predefined lexicon, which may fail to capture contextual nuances such as sarcasm or irony, leading to misinterpretations.\n",
    "\n",
    "+ Polarity Misclassification:  In some cases, BART might misinterpret the polarity (positive/negative/neutral) of a sentence if it’s subtle or mixed. \n",
    "\n",
    "Despite those limitations, the VADER and BART models still provide valuable insights for short reviews and assist in preparing data to create more insightful dashboards in Power BI."
   ]
  }
 ],
 "metadata": {
  "kernelspec": {
   "display_name": "Python 3 (ipykernel)",
   "language": "python",
   "name": "python3"
  },
  "language_info": {
   "codemirror_mode": {
    "name": "ipython",
    "version": 3
   },
   "file_extension": ".py",
   "mimetype": "text/x-python",
   "name": "python",
   "nbconvert_exporter": "python",
   "pygments_lexer": "ipython3",
   "version": "3.11.5"
  }
 },
 "nbformat": 4,
 "nbformat_minor": 5
}
